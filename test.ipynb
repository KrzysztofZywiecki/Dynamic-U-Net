{
 "cells": [
  {
   "cell_type": "code",
   "execution_count": null,
   "metadata": {},
   "outputs": [],
   "source": [
    "import torch\n",
    "import torch.nn as nn\n",
    "from networks import DynamicUNet, BaseUNet\n",
    "\n",
    "network = DynamicUNet(1, 5, [5,4,3,2,1], [1,2,3,4,5])\n",
    "\n",
    "network.use_higher_layer()\n",
    "network.use_higher_layer()\n",
    "network.use_higher_layer()\n",
    "network.use_higher_layer()\n",
    "network.use_higher_layer()\n",
    "\n",
    "val = network(torch.randn((5, 1, 1024, 1024)))\n",
    "\n",
    "print(val.size())\n"
   ]
  },
  {
   "cell_type": "code",
   "execution_count": null,
   "metadata": {},
   "outputs": [],
   "source": [
    "from torchviz import make_dot\n",
    "\n",
    "make_dot(val.sum(), params=dict(list(network.named_parameters()))).render(\"torchviz3\", format=\"png\")"
   ]
  },
  {
   "cell_type": "code",
   "execution_count": null,
   "metadata": {},
   "outputs": [],
   "source": [
    "\n",
    "# temp_ = network.additional_mapper_classifiers[-2][\"mapper\"](torch.randn((5, 1, 128, 128)))\n",
    "\n",
    "# add_down_ = network.additional_downscale[-2](temp_)\n",
    "# downscaled_ = network.downscale(add_down_)\n",
    "\n",
    "# #-----------------------------------#\n",
    "\n",
    "# # temp = network.additional_mapper_classifiers[-1][\"mapper\"](torch.randn((5, 1, 64, 64)))\n",
    "\n",
    "# add_down = network.additional_downscale[-1](downscaled_)\n",
    "# downscaled = network.downscale(add_down)\n",
    "\n",
    "# y_hat = network.base_unet(downscaled)\n",
    "\n",
    "# upscaled = network.additional_upscale[-1][\"upsample_conv\"](y_hat)\n",
    "\n",
    "# sth = torch.cat([upscaled, add_down], dim=1)\n",
    "\n",
    "# res = network.additional_upscale[-1][\"conv_cell\"](sth)\n",
    "\n",
    "# # res = network.additional_mapper_classifiers[-1][\"classifier\"](res)\n",
    "\n",
    "# #-----------------------------------#\n",
    "\n",
    "# upscaled = network.additional_upscale[-2][\"upsample_conv\"](res)\n",
    "\n",
    "# sth = torch.cat([upscaled, add_down_], dim=1)\n",
    "\n",
    "# res = network.additional_upscale[-2][\"conv_cell\"](sth)\n",
    "\n",
    "# res = network.additional_mapper_classifiers[-2][\"classifier\"](res)\n"
   ]
  }
 ],
 "metadata": {
  "interpreter": {
   "hash": "767d51c1340bd893661ea55ea3124f6de3c7a262a8b4abca0554b478b1e2ff90"
  },
  "kernelspec": {
   "display_name": "Python 3.9.7 64-bit",
   "name": "python3"
  },
  "language_info": {
   "codemirror_mode": {
    "name": "ipython",
    "version": 3
   },
   "file_extension": ".py",
   "mimetype": "text/x-python",
   "name": "python",
   "nbconvert_exporter": "python",
   "pygments_lexer": "ipython3",
   "version": "3.9.7"
  },
  "orig_nbformat": 4
 },
 "nbformat": 4,
 "nbformat_minor": 2
}
