{
 "cells": [
  {
   "cell_type": "code",
   "execution_count": 3,
   "source": [
    "import torch\n",
    "import torch.nn as nn\n",
    "from networks import DynamicUNet\n",
    "\n",
    "network = DynamicUNet(1, 3, [64, 128])\n",
    "additional_pass = network.make_additional_step(256)\n",
    "\n",
    "#def calculate_train_loss(self, X, y, additional_step = None, loss_fn=nn.CrossEntropyLoss(), alpha = 1.0):\n",
    "\n",
    "loss = network.calculate_train_loss(torch.randn((5, 1, 64, 64)), torch.randn((5, 1, 64, 64)), additional_pass, alpha=0.5, loss_fn = nn.MSELoss())"
   ],
   "outputs": [
    {
     "output_type": "stream",
     "name": "stdout",
     "text": [
      "torch.Size([5, 256, 16, 16]) torch.Size([5, 256, 16, 16])\n"
     ]
    },
    {
     "output_type": "stream",
     "name": "stderr",
     "text": [
      "/usr/lib/python3.9/site-packages/torch/nn/modules/loss.py:528: UserWarning: Using a target size (torch.Size([5, 1, 64, 64])) that is different to the input size (torch.Size([5, 3, 64, 64])). This will likely lead to incorrect results due to broadcasting. Please ensure they have the same size.\n",
      "  return F.mse_loss(input, target, reduction=self.reduction)\n"
     ]
    }
   ],
   "metadata": {}
  },
  {
   "cell_type": "code",
   "execution_count": 4,
   "source": [
    "from torchviz import make_dot\n",
    "\n",
    "make_dot(loss, params=dict(list(network.named_parameters()))).render(\"torchviz\", format=\"png\")"
   ],
   "outputs": [
    {
     "output_type": "execute_result",
     "data": {
      "text/plain": [
       "'torchviz.png'"
      ]
     },
     "metadata": {},
     "execution_count": 4
    }
   ],
   "metadata": {}
  },
  {
   "cell_type": "code",
   "execution_count": null,
   "source": [],
   "outputs": [],
   "metadata": {}
  }
 ],
 "metadata": {
  "orig_nbformat": 4,
  "language_info": {
   "name": "python",
   "version": "3.9.7",
   "mimetype": "text/x-python",
   "codemirror_mode": {
    "name": "ipython",
    "version": 3
   },
   "pygments_lexer": "ipython3",
   "nbconvert_exporter": "python",
   "file_extension": ".py"
  },
  "kernelspec": {
   "name": "python3",
   "display_name": "Python 3.9.7 64-bit"
  },
  "interpreter": {
   "hash": "767d51c1340bd893661ea55ea3124f6de3c7a262a8b4abca0554b478b1e2ff90"
  }
 },
 "nbformat": 4,
 "nbformat_minor": 2
}