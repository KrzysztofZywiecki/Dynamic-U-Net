{
 "cells": [
  {
   "cell_type": "code",
   "execution_count": 1,
   "metadata": {},
   "outputs": [],
   "source": [
    "import torch\n",
    "import torch.nn as nn\n",
    "from networks import DynamicUNet, LearnableScaleDynamicUNet\n",
    "from networks import dice_score\n",
    "\n",
    "device = \"cuda\" if torch.cuda.is_available() else \"cpu\"\n",
    "\n",
    "network = DynamicUNet(1, 2, [128, 256, 512], [128, 128, 64]).to(device)\n",
    "#network = LearnableScaleDynamicUNet(1, 2, [128, 256, 512], 8, [(128, 4), (128, 2), (64, 1)]).to(device)"
   ]
  },
  {
   "cell_type": "code",
   "execution_count": 2,
   "metadata": {},
   "outputs": [],
   "source": [
    "from torch.utils.data import DataLoader, Dataset\n",
    "from sklearn.model_selection import train_test_split\n",
    "import cv2 as cv\n",
    "import os\n",
    "import numpy as np\n",
    "import re\n",
    "\n",
    "class SegmentationDataset(Dataset):\n",
    "    def __init__(self, ids, patch_folder=\"./segmentation/patches\", mask_folder=\"./segmentation/masks\", scale=1):\n",
    "        self.ids = ids\n",
    "        self.mask_folder = mask_folder\n",
    "        self.patch_folder = patch_folder\n",
    "        self.scale = scale\n",
    "    def __len__(self):\n",
    "        return len(self.ids)\n",
    "    def __getitem__(self, index):\n",
    "        patch_path = os.path.join(self.patch_folder, \"org_{}.bmp\".format(self.ids[index]))\n",
    "        mask_path = os.path.join(self.mask_folder, \"mask_{}.bmp\".format(self.ids[index]))\n",
    "\n",
    "        patch = cv.imread(patch_path, cv.IMREAD_GRAYSCALE)/255.0\n",
    "        #patch = np.expand_dims(patch, 0)\n",
    "        patch = np.expand_dims(cv.resize(patch, None, fx=self.scale, fy=self.scale), 0)\n",
    "        mask = cv.imread(mask_path, cv.IMREAD_GRAYSCALE)\n",
    "        mask = cv.resize(mask, None, fx=self.scale, fy=self.scale, interpolation=cv.INTER_NEAREST)\n",
    "\n",
    "        return torch.tensor(patch, dtype=torch.float), torch.tensor(mask, dtype=torch.long)\n",
    "\n",
    "ids = [ re.findall(\"[0-9]+\", name)[0] for name in os.listdir(\"./segmentation/patches\") ]\n",
    "\n",
    "train, test = train_test_split(ids, test_size=40)"
   ]
  },
  {
   "cell_type": "code",
   "execution_count": 4,
   "metadata": {},
   "outputs": [
    {
     "name": "stdout",
     "output_type": "stream",
     "text": [
      "Loss: 0.2506433963775635 Dice score: 0.8265681982040405\n",
      "Loss: 0.21592425107955932 Dice score: 0.8406698703765869\n",
      "Loss: 0.20320012867450715 Dice score: 0.8461280107498169\n",
      "Loss: 0.19989177882671355 Dice score: 0.8484419584274292\n",
      "Loss: 0.1948125034570694 Dice score: 0.8507272481918335\n",
      "Loss: 0.18971445858478547 Dice score: 0.8502421855926514\n",
      "Loss: 0.19673066437244416 Dice score: 0.8513953924179077\n",
      "Loss: 0.1917656511068344 Dice score: 0.8494061708450318\n",
      "Loss: 0.1919829159975052 Dice score: 0.8518066167831421\n",
      "Loss: 0.1937926858663559 Dice score: 0.8497689485549926\n",
      "Loss: 0.19414761364459993 Dice score: 0.8506247282028199\n",
      "Epoch ended\n",
      "Loss: 0.31433854103088377 Dice score: 0.795859944820404\n",
      "Loss: 0.23992905020713806 Dice score: 0.8645509719848633\n",
      "Loss: 0.2090021401643753 Dice score: 0.8731854200363159\n",
      "Loss: 0.18959086537361144 Dice score: 0.8847963809967041\n",
      "Loss: 0.17605367302894592 Dice score: 0.8932626724243165\n",
      "Loss: 0.16547061800956725 Dice score: 0.8981926441192627\n",
      "Loss: 0.15607301890850067 Dice score: 0.904554033279419\n",
      "Loss: 0.14938946366310119 Dice score: 0.9055974006652832\n",
      "Loss: 0.14203940629959105 Dice score: 0.9107707262039184\n",
      "Loss: 0.13675364553928376 Dice score: 0.9121747493743897\n",
      "Loss: 0.13214415609836577 Dice score: 0.9135502576828003\n",
      "Loss: 0.128329336643219 Dice score: 0.9147731065750122\n",
      "Loss: 0.12454218268394471 Dice score: 0.915670371055603\n",
      "Loss: 0.12142045497894287 Dice score: 0.9153605222702026\n",
      "Loss: 0.11931447982788086 Dice score: 0.9162164449691772\n",
      "Loss: 0.11676090657711029 Dice score: 0.9163120031356812\n",
      "Loss: 0.11499044299125671 Dice score: 0.9163289308547974\n",
      "Loss: 0.11411087512969971 Dice score: 0.9172595024108887\n",
      "Loss: 0.1123814582824707 Dice score: 0.9166408777236938\n",
      "Loss: 0.11236096322536468 Dice score: 0.9171292066574097\n",
      "Loss: 0.11100312173366547 Dice score: 0.9157552003860474\n",
      "Loss: 0.1104997456073761 Dice score: 0.9163450241088867\n",
      "Loss: 0.11072636842727661 Dice score: 0.9149838209152221\n",
      "Loss: 0.1098624050617218 Dice score: 0.9154531002044678\n",
      "Loss: 0.10865929126739501 Dice score: 0.9152586221694946\n",
      "Loss: 0.1087045431137085 Dice score: 0.9147850513458252\n",
      "Loss: 0.10871324837207794 Dice score: 0.9143611192703247\n",
      "Loss: 0.10818732082843781 Dice score: 0.9141777276992797\n",
      "Loss: 0.10900858342647553 Dice score: 0.9140283107757569\n",
      "Loss: 0.10873640775680542 Dice score: 0.9130764722824096\n",
      "Loss: 0.1083399385213852 Dice score: 0.9117064952850342\n",
      "Loss: 0.10929314196109771 Dice score: 0.9119446277618408\n",
      "Loss: 0.10883584320545196 Dice score: 0.9122632265090942\n",
      "Epoch ended\n",
      "Loss: 0.307301265001297 Dice score: 0.8347326040267944\n",
      "Loss: 0.22276363968849183 Dice score: 0.9007304430007934\n",
      "Loss: 0.1923246294260025 Dice score: 0.9065579175949097\n",
      "Loss: 0.1753438115119934 Dice score: 0.9149644851684571\n",
      "Loss: 0.16355839967727662 Dice score: 0.922233271598816\n",
      "Loss: 0.1556034952402115 Dice score: 0.923491382598877\n",
      "Loss: 0.14779382646083833 Dice score: 0.9274543523788452\n",
      "Loss: 0.14162060618400574 Dice score: 0.9299575805664062\n",
      "Loss: 0.13675804436206818 Dice score: 0.9306598663330078\n",
      "Loss: 0.1317458689212799 Dice score: 0.9334894418716431\n",
      "Loss: 0.12725066542625427 Dice score: 0.9353304862976074\n",
      "Loss: 0.12422676086425781 Dice score: 0.9348255872726441\n",
      "Loss: 0.12054848968982697 Dice score: 0.9359168291091919\n"
     ]
    },
    {
     "ename": "KeyboardInterrupt",
     "evalue": "",
     "output_type": "error",
     "traceback": [
      "\u001b[0;31m---------------------------------------------------------------------------\u001b[0m",
      "\u001b[0;31mKeyboardInterrupt\u001b[0m                         Traceback (most recent call last)",
      "\u001b[0;32m/tmp/ipykernel_8306/2773529329.py\u001b[0m in \u001b[0;36m<module>\u001b[0;34m\u001b[0m\n\u001b[1;32m     28\u001b[0m         \u001b[0;31m# Training\u001b[0m\u001b[0;34m\u001b[0m\u001b[0;34m\u001b[0m\u001b[0m\n\u001b[1;32m     29\u001b[0m         \u001b[0;32mfor\u001b[0m \u001b[0mX\u001b[0m\u001b[0;34m,\u001b[0m \u001b[0my\u001b[0m \u001b[0;32min\u001b[0m \u001b[0mtrain_loader\u001b[0m\u001b[0;34m:\u001b[0m\u001b[0;34m\u001b[0m\u001b[0;34m\u001b[0m\u001b[0m\n\u001b[0;32m---> 30\u001b[0;31m             \u001b[0mX\u001b[0m\u001b[0;34m,\u001b[0m \u001b[0my\u001b[0m \u001b[0;34m=\u001b[0m \u001b[0mX\u001b[0m\u001b[0;34m.\u001b[0m\u001b[0mto\u001b[0m\u001b[0;34m(\u001b[0m\u001b[0mdevice\u001b[0m\u001b[0;34m)\u001b[0m\u001b[0;34m,\u001b[0m \u001b[0my\u001b[0m\u001b[0;34m.\u001b[0m\u001b[0mto\u001b[0m\u001b[0;34m(\u001b[0m\u001b[0mdevice\u001b[0m\u001b[0;34m)\u001b[0m\u001b[0;34m\u001b[0m\u001b[0;34m\u001b[0m\u001b[0m\n\u001b[0m\u001b[1;32m     31\u001b[0m             \u001b[0moptimizer\u001b[0m\u001b[0;34m.\u001b[0m\u001b[0mzero_grad\u001b[0m\u001b[0;34m(\u001b[0m\u001b[0;34m)\u001b[0m\u001b[0;34m\u001b[0m\u001b[0;34m\u001b[0m\u001b[0m\n\u001b[1;32m     32\u001b[0m             \u001b[0mx_hat\u001b[0m \u001b[0;34m=\u001b[0m \u001b[0mnetwork\u001b[0m\u001b[0;34m(\u001b[0m\u001b[0mX\u001b[0m\u001b[0;34m)\u001b[0m\u001b[0;34m\u001b[0m\u001b[0;34m\u001b[0m\u001b[0m\n",
      "\u001b[0;31mKeyboardInterrupt\u001b[0m: "
     ]
    }
   ],
   "source": [
    "learning_rate = 1e-4\n",
    "batch_size = 10\n",
    "\n",
    "optimizer = torch.optim.Adam(network.parameters(), lr=learning_rate)\n",
    "\n",
    "train_loss_fn = nn.CrossEntropyLoss()\n",
    "test_loss_fn = nn.CrossEntropyLoss(reduction=\"sum\")\n",
    "\n",
    "plateau_window = 5  # Detect plateau if training doesn't progress after num epochs\n",
    "# plateau_lambda = 0.01 # Detect plateau if difference between current and best is less than lambda\n",
    "\n",
    "scales = [1/8, 1/4, 1/2, 1]\n",
    "\n",
    "losses = [ [] for _ in scales ]\n",
    "dice_scores = [ [] for _ in scales ]\n",
    "\n",
    "for i, scale in enumerate(scales):\n",
    "    breakthrough = 999\n",
    "    since = 0\n",
    "    side = 128 * scale\n",
    "\n",
    "    train_dataset = SegmentationDataset(train, scale=scale)\n",
    "    test_dataset = SegmentationDataset(test, scale=scale)\n",
    "\n",
    "    train_loader = DataLoader(train_dataset, batch_size=batch_size, shuffle=True)\n",
    "    test_loader = DataLoader(test_dataset, batch_size=batch_size, shuffle=False)\n",
    "    while since != plateau_window:\n",
    "        # Training\n",
    "        for X, y in train_loader:\n",
    "            X, y = X.to(device), y.to(device)\n",
    "            optimizer.zero_grad()\n",
    "            x_hat = network(X)\n",
    "            loss = train_loss_fn(x_hat, y)\n",
    "            loss.backward()\n",
    "            optimizer.step()\n",
    "\n",
    "        # Testing\n",
    "        with torch.no_grad():\n",
    "            loss = 0\n",
    "            dice_score_ = 0\n",
    "            for X, y in test_loader:\n",
    "                X, y = X.to(device,), y.to(device)\n",
    "                x_hat = network(X)\n",
    "                loss += test_loss_fn(x_hat, y).item()\n",
    "                dice_score_ += dice_score(x_hat.cpu(), y.cpu(), reduction=\"sum\")\n",
    "            loss = loss / (len(test_dataset) * side * side ) \n",
    "            dice_score_ = dice_score_ / len(test_dataset)\n",
    "            dice_scores[i].append(dice_score_)\n",
    "            since += 1\n",
    "            if loss < breakthrough:\n",
    "                breakthrough = loss\n",
    "                since=0\n",
    "            print(\"Loss:\", loss, \"Dice score:\", dice_score_)\n",
    "            losses[i].append(loss)\n",
    "    print(\"Epoch ended\")\n",
    "    network.use_higher_layer()"
   ]
  },
  {
   "cell_type": "code",
   "execution_count": null,
   "metadata": {},
   "outputs": [
    {
     "data": {
      "image/png": "[encoded data removed]",
      "text/plain": [
       "<Figure size 432x288 with 1 Axes>"
      ]
     },
     "metadata": {
      "needs_background": "light"
     },
     "output_type": "display_data"
    },
    {
     "data": {
      "image/png": "[encoded data removed]",
      "text/plain": [
       "<Figure size 432x288 with 1 Axes>"
      ]
     },
     "metadata": {
      "needs_background": "light"
     },
     "output_type": "display_data"
    }
   ],
   "source": [
    "import matplotlib.pyplot as plt\n",
    "\n",
    "plt.figure()\n",
    "for loss in losses:\n",
    "    plt.plot(loss)\n",
    "plt.legend([1,2,3,4])\n",
    "plt.grid()\n",
    "plt.show()\n",
    "\n",
    "plt.figure()\n",
    "for dice in dice_scores:\n",
    "    plt.plot(dice)\n",
    "plt.legend([1,2,3,4])\n",
    "plt.grid()\n",
    "plt.show()"
   ]
  },
  {
   "cell_type": "code",
   "execution_count": null,
   "metadata": {},
   "outputs": [],
   "source": [
    "dice_scores[2]"
   ]
  },
  {
   "cell_type": "code",
   "execution_count": null,
   "metadata": {},
   "outputs": [],
   "source": [
    "from torchviz import make_dot\n",
    "\n",
    "val = network(torch.randn((1, 1, 128, 128)).cuda()).cpu()\n",
    "\n",
    "make_dot(val.sum(), params=dict(list(network.named_parameters()))).render(\"torchviz3\", format=\"png\")"
   ]
  },
  {
   "cell_type": "code",
   "execution_count": null,
   "metadata": {},
   "outputs": [],
   "source": [
    "\n",
    "# temp_ = network.additional_mapper_classifiers[-2][\"mapper\"](torch.randn((5, 1, 128, 128)))\n",
    "\n",
    "# add_down_ = network.additional_downscale[-2](temp_)\n",
    "# downscaled_ = network.downscale(add_down_)\n",
    "\n",
    "# #-----------------------------------#\n",
    "\n",
    "# # temp = network.additional_mapper_classifiers[-1][\"mapper\"](torch.randn((5, 1, 64, 64)))\n",
    "\n",
    "# add_down = network.additional_downscale[-1](downscaled_)\n",
    "# downscaled = network.downscale(add_down)\n",
    "\n",
    "# y_hat = network.base_unet(downscaled)\n",
    "\n",
    "# upscaled = network.additional_upscale[-1][\"upsample_conv\"](y_hat)\n",
    "\n",
    "# sth = torch.cat([upscaled, add_down], dim=1)\n",
    "\n",
    "# res = network.additional_upscale[-1][\"conv_cell\"](sth)\n",
    "\n",
    "# # res = network.additional_mapper_classifiers[-1][\"classifier\"](res)\n",
    "\n",
    "# #-----------------------------------#\n",
    "\n",
    "# upscaled = network.additional_upscale[-2][\"upsample_conv\"](res)\n",
    "\n",
    "# sth = torch.cat([upscaled, add_down_], dim=1)\n",
    "\n",
    "# res = network.additional_upscale[-2][\"conv_cell\"](sth)\n",
    "\n",
    "# res = network.additional_mapper_classifiers[-2][\"classifier\"](res)\n"
   ]
  },
  {
   "cell_type": "code",
   "execution_count": null,
   "metadata": {},
   "outputs": [
    {
     "data": {
      "text/plain": [
       "tensor(0.4989)"
      ]
     },
     "execution_count": 5,
     "metadata": {},
     "output_type": "execute_result"
    }
   ],
   "source": [
    "import torch\n",
    "from networks import dice_score\n",
    "\n",
    "tab1 = torch.randn((10, 2, 64, 64))\n",
    "tab2 = torch.randn((10, 64, 64)) > 0\n",
    "\n",
    "dice_score(tab1, tab2)"
   ]
  },
  {
   "cell_type": "code",
   "execution_count": null,
   "metadata": {},
   "outputs": [],
   "source": [
    "len(network.additional_mapper_classifiers)"
   ]
  },
  {
   "cell_type": "code",
   "execution_count": null,
   "metadata": {},
   "outputs": [],
   "source": [
    "while(network.use_higher_layer() != True):\n",
    "    pass"
   ]
  },
  {
   "cell_type": "code",
   "execution_count": null,
   "metadata": {},
   "outputs": [],
   "source": []
  }
 ],
 "metadata": {
  "interpreter": {
   "hash": "767d51c1340bd893661ea55ea3124f6de3c7a262a8b4abca0554b478b1e2ff90"
  },
  "kernelspec": {
   "display_name": "Python 3.9.7 64-bit",
   "name": "python3"
  },
  "language_info": {
   "codemirror_mode": {
    "name": "ipython",
    "version": 3
   },
   "file_extension": ".py",
   "mimetype": "text/x-python",
   "name": "python",
   "nbconvert_exporter": "python",
   "pygments_lexer": "ipython3",
   "version": "3.9.7"
  },
  "orig_nbformat": 4
 },
 "nbformat": 4,
 "nbformat_minor": 2
}
